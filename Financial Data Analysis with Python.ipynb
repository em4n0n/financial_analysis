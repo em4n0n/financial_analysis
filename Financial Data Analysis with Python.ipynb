{
 "cells": [
  {
   "cell_type": "markdown",
   "id": "f15262e0",
   "metadata": {},
   "source": [
    "# Introfuction to DataFrames\n",
    "- read data from CSV\n",
    "- understand data types\n",
    "- set index\n",
    "- parse dates\n",
    "- use index with loc\n",
    "- use indexing with iloc"
   ]
  },
  {
   "cell_type": "markdown",
   "id": "d9bb298d",
   "metadata": {},
   "source": [
    "import pandas as pd"
   ]
  },
  {
   "cell_type": "code",
   "execution_count": 27,
   "id": "d178f2fa",
   "metadata": {},
   "outputs": [],
   "source": [
    "data = pd.read_csv(\"AAPL.csv\", index_col=0, parse_dates=True)"
   ]
  },
  {
   "cell_type": "code",
   "execution_count": 28,
   "id": "3d75bb6c",
   "metadata": {
    "scrolled": false
   },
   "outputs": [
    {
     "data": {
      "text/html": [
       "<div>\n",
       "<style scoped>\n",
       "    .dataframe tbody tr th:only-of-type {\n",
       "        vertical-align: middle;\n",
       "    }\n",
       "\n",
       "    .dataframe tbody tr th {\n",
       "        vertical-align: top;\n",
       "    }\n",
       "\n",
       "    .dataframe thead th {\n",
       "        text-align: right;\n",
       "    }\n",
       "</style>\n",
       "<table border=\"1\" class=\"dataframe\">\n",
       "  <thead>\n",
       "    <tr style=\"text-align: right;\">\n",
       "      <th></th>\n",
       "      <th>Open</th>\n",
       "      <th>High</th>\n",
       "      <th>Low</th>\n",
       "      <th>Close</th>\n",
       "      <th>Adj Close</th>\n",
       "      <th>Volume</th>\n",
       "    </tr>\n",
       "    <tr>\n",
       "      <th>Date</th>\n",
       "      <th></th>\n",
       "      <th></th>\n",
       "      <th></th>\n",
       "      <th></th>\n",
       "      <th></th>\n",
       "      <th></th>\n",
       "    </tr>\n",
       "  </thead>\n",
       "  <tbody>\n",
       "    <tr>\n",
       "      <th>2021-06-28</th>\n",
       "      <td>133.410004</td>\n",
       "      <td>135.250000</td>\n",
       "      <td>133.350006</td>\n",
       "      <td>134.779999</td>\n",
       "      <td>134.014343</td>\n",
       "      <td>62111300</td>\n",
       "    </tr>\n",
       "    <tr>\n",
       "      <th>2021-06-29</th>\n",
       "      <td>134.800003</td>\n",
       "      <td>136.490005</td>\n",
       "      <td>134.350006</td>\n",
       "      <td>136.330002</td>\n",
       "      <td>135.555542</td>\n",
       "      <td>64556100</td>\n",
       "    </tr>\n",
       "    <tr>\n",
       "      <th>2021-06-30</th>\n",
       "      <td>136.169998</td>\n",
       "      <td>137.410004</td>\n",
       "      <td>135.869995</td>\n",
       "      <td>136.960007</td>\n",
       "      <td>136.181961</td>\n",
       "      <td>63261400</td>\n",
       "    </tr>\n",
       "    <tr>\n",
       "      <th>2021-07-01</th>\n",
       "      <td>136.600006</td>\n",
       "      <td>137.330002</td>\n",
       "      <td>135.759995</td>\n",
       "      <td>137.270004</td>\n",
       "      <td>136.490204</td>\n",
       "      <td>52485800</td>\n",
       "    </tr>\n",
       "    <tr>\n",
       "      <th>2021-07-02</th>\n",
       "      <td>137.899994</td>\n",
       "      <td>140.000000</td>\n",
       "      <td>137.750000</td>\n",
       "      <td>139.960007</td>\n",
       "      <td>139.164932</td>\n",
       "      <td>78852600</td>\n",
       "    </tr>\n",
       "  </tbody>\n",
       "</table>\n",
       "</div>"
      ],
      "text/plain": [
       "                  Open        High         Low       Close   Adj Close  \\\n",
       "Date                                                                     \n",
       "2021-06-28  133.410004  135.250000  133.350006  134.779999  134.014343   \n",
       "2021-06-29  134.800003  136.490005  134.350006  136.330002  135.555542   \n",
       "2021-06-30  136.169998  137.410004  135.869995  136.960007  136.181961   \n",
       "2021-07-01  136.600006  137.330002  135.759995  137.270004  136.490204   \n",
       "2021-07-02  137.899994  140.000000  137.750000  139.960007  139.164932   \n",
       "\n",
       "              Volume  \n",
       "Date                  \n",
       "2021-06-28  62111300  \n",
       "2021-06-29  64556100  \n",
       "2021-06-30  63261400  \n",
       "2021-07-01  52485800  \n",
       "2021-07-02  78852600  "
      ]
     },
     "execution_count": 28,
     "metadata": {},
     "output_type": "execute_result"
    }
   ],
   "source": [
    "data.head()"
   ]
  },
  {
   "cell_type": "code",
   "execution_count": 29,
   "id": "1d867c87",
   "metadata": {},
   "outputs": [
    {
     "data": {
      "text/plain": [
       "Open         float64\n",
       "High         float64\n",
       "Low          float64\n",
       "Close        float64\n",
       "Adj Close    float64\n",
       "Volume         int64\n",
       "dtype: object"
      ]
     },
     "execution_count": 29,
     "metadata": {},
     "output_type": "execute_result"
    }
   ],
   "source": [
    "data.dtypes"
   ]
  },
  {
   "cell_type": "code",
   "execution_count": 30,
   "id": "ec7e6f3b",
   "metadata": {},
   "outputs": [
    {
     "data": {
      "text/plain": [
       "DatetimeIndex(['2021-06-28', '2021-06-29', '2021-06-30', '2021-07-01',\n",
       "               '2021-07-02', '2021-07-06', '2021-07-07', '2021-07-08',\n",
       "               '2021-07-09', '2021-07-12',\n",
       "               ...\n",
       "               '2022-06-10', '2022-06-13', '2022-06-14', '2022-06-15',\n",
       "               '2022-06-16', '2022-06-17', '2022-06-21', '2022-06-22',\n",
       "               '2022-06-23', '2022-06-24'],\n",
       "              dtype='datetime64[ns]', name='Date', length=251, freq=None)"
      ]
     },
     "execution_count": 30,
     "metadata": {},
     "output_type": "execute_result"
    }
   ],
   "source": [
    "data.index"
   ]
  },
  {
   "cell_type": "code",
   "execution_count": 31,
   "id": "2643653d",
   "metadata": {},
   "outputs": [
    {
     "data": {
      "text/plain": [
       "Open         1.334100e+02\n",
       "High         1.352500e+02\n",
       "Low          1.333500e+02\n",
       "Close        1.347800e+02\n",
       "Adj Close    1.340143e+02\n",
       "Volume       6.211130e+07\n",
       "Name: 2021-06-28 00:00:00, dtype: float64"
      ]
     },
     "execution_count": 31,
     "metadata": {},
     "output_type": "execute_result"
    }
   ],
   "source": [
    "data.loc['2021-06-28']"
   ]
  },
  {
   "cell_type": "code",
   "execution_count": 32,
   "id": "cb9e7b2b",
   "metadata": {},
   "outputs": [
    {
     "data": {
      "text/html": [
       "<div>\n",
       "<style scoped>\n",
       "    .dataframe tbody tr th:only-of-type {\n",
       "        vertical-align: middle;\n",
       "    }\n",
       "\n",
       "    .dataframe tbody tr th {\n",
       "        vertical-align: top;\n",
       "    }\n",
       "\n",
       "    .dataframe thead th {\n",
       "        text-align: right;\n",
       "    }\n",
       "</style>\n",
       "<table border=\"1\" class=\"dataframe\">\n",
       "  <thead>\n",
       "    <tr style=\"text-align: right;\">\n",
       "      <th></th>\n",
       "      <th>Open</th>\n",
       "      <th>High</th>\n",
       "      <th>Low</th>\n",
       "      <th>Close</th>\n",
       "      <th>Adj Close</th>\n",
       "      <th>Volume</th>\n",
       "    </tr>\n",
       "    <tr>\n",
       "      <th>Date</th>\n",
       "      <th></th>\n",
       "      <th></th>\n",
       "      <th></th>\n",
       "      <th></th>\n",
       "      <th></th>\n",
       "      <th></th>\n",
       "    </tr>\n",
       "  </thead>\n",
       "  <tbody>\n",
       "    <tr>\n",
       "      <th>2022-01-03</th>\n",
       "      <td>177.830002</td>\n",
       "      <td>182.880005</td>\n",
       "      <td>177.710007</td>\n",
       "      <td>182.009995</td>\n",
       "      <td>181.511703</td>\n",
       "      <td>104487900</td>\n",
       "    </tr>\n",
       "    <tr>\n",
       "      <th>2022-01-04</th>\n",
       "      <td>182.630005</td>\n",
       "      <td>182.940002</td>\n",
       "      <td>179.119995</td>\n",
       "      <td>179.699997</td>\n",
       "      <td>179.208038</td>\n",
       "      <td>99310400</td>\n",
       "    </tr>\n",
       "    <tr>\n",
       "      <th>2022-01-05</th>\n",
       "      <td>179.610001</td>\n",
       "      <td>180.169998</td>\n",
       "      <td>174.639999</td>\n",
       "      <td>174.919998</td>\n",
       "      <td>174.441116</td>\n",
       "      <td>94537600</td>\n",
       "    </tr>\n",
       "    <tr>\n",
       "      <th>2022-01-06</th>\n",
       "      <td>172.699997</td>\n",
       "      <td>175.300003</td>\n",
       "      <td>171.639999</td>\n",
       "      <td>172.000000</td>\n",
       "      <td>171.529129</td>\n",
       "      <td>96904000</td>\n",
       "    </tr>\n",
       "    <tr>\n",
       "      <th>2022-01-07</th>\n",
       "      <td>172.889999</td>\n",
       "      <td>174.139999</td>\n",
       "      <td>171.029999</td>\n",
       "      <td>172.169998</td>\n",
       "      <td>171.698654</td>\n",
       "      <td>86709100</td>\n",
       "    </tr>\n",
       "    <tr>\n",
       "      <th>...</th>\n",
       "      <td>...</td>\n",
       "      <td>...</td>\n",
       "      <td>...</td>\n",
       "      <td>...</td>\n",
       "      <td>...</td>\n",
       "      <td>...</td>\n",
       "    </tr>\n",
       "    <tr>\n",
       "      <th>2022-06-17</th>\n",
       "      <td>130.070007</td>\n",
       "      <td>133.080002</td>\n",
       "      <td>129.809998</td>\n",
       "      <td>131.559998</td>\n",
       "      <td>131.559998</td>\n",
       "      <td>134118500</td>\n",
       "    </tr>\n",
       "    <tr>\n",
       "      <th>2022-06-21</th>\n",
       "      <td>133.419998</td>\n",
       "      <td>137.059998</td>\n",
       "      <td>133.320007</td>\n",
       "      <td>135.869995</td>\n",
       "      <td>135.869995</td>\n",
       "      <td>81000500</td>\n",
       "    </tr>\n",
       "    <tr>\n",
       "      <th>2022-06-22</th>\n",
       "      <td>134.789993</td>\n",
       "      <td>137.759995</td>\n",
       "      <td>133.910004</td>\n",
       "      <td>135.350006</td>\n",
       "      <td>135.350006</td>\n",
       "      <td>73409200</td>\n",
       "    </tr>\n",
       "    <tr>\n",
       "      <th>2022-06-23</th>\n",
       "      <td>136.820007</td>\n",
       "      <td>138.589996</td>\n",
       "      <td>135.630005</td>\n",
       "      <td>138.270004</td>\n",
       "      <td>138.270004</td>\n",
       "      <td>72433800</td>\n",
       "    </tr>\n",
       "    <tr>\n",
       "      <th>2022-06-24</th>\n",
       "      <td>139.899994</td>\n",
       "      <td>141.910004</td>\n",
       "      <td>139.770004</td>\n",
       "      <td>141.660004</td>\n",
       "      <td>141.660004</td>\n",
       "      <td>89047400</td>\n",
       "    </tr>\n",
       "  </tbody>\n",
       "</table>\n",
       "<p>120 rows × 6 columns</p>\n",
       "</div>"
      ],
      "text/plain": [
       "                  Open        High         Low       Close   Adj Close  \\\n",
       "Date                                                                     \n",
       "2022-01-03  177.830002  182.880005  177.710007  182.009995  181.511703   \n",
       "2022-01-04  182.630005  182.940002  179.119995  179.699997  179.208038   \n",
       "2022-01-05  179.610001  180.169998  174.639999  174.919998  174.441116   \n",
       "2022-01-06  172.699997  175.300003  171.639999  172.000000  171.529129   \n",
       "2022-01-07  172.889999  174.139999  171.029999  172.169998  171.698654   \n",
       "...                ...         ...         ...         ...         ...   \n",
       "2022-06-17  130.070007  133.080002  129.809998  131.559998  131.559998   \n",
       "2022-06-21  133.419998  137.059998  133.320007  135.869995  135.869995   \n",
       "2022-06-22  134.789993  137.759995  133.910004  135.350006  135.350006   \n",
       "2022-06-23  136.820007  138.589996  135.630005  138.270004  138.270004   \n",
       "2022-06-24  139.899994  141.910004  139.770004  141.660004  141.660004   \n",
       "\n",
       "               Volume  \n",
       "Date                   \n",
       "2022-01-03  104487900  \n",
       "2022-01-04   99310400  \n",
       "2022-01-05   94537600  \n",
       "2022-01-06   96904000  \n",
       "2022-01-07   86709100  \n",
       "...               ...  \n",
       "2022-06-17  134118500  \n",
       "2022-06-21   81000500  \n",
       "2022-06-22   73409200  \n",
       "2022-06-23   72433800  \n",
       "2022-06-24   89047400  \n",
       "\n",
       "[120 rows x 6 columns]"
      ]
     },
     "execution_count": 32,
     "metadata": {},
     "output_type": "execute_result"
    }
   ],
   "source": [
    "data.loc['2022-01-01':]"
   ]
  },
  {
   "cell_type": "code",
   "execution_count": 34,
   "id": "9125a977",
   "metadata": {},
   "outputs": [
    {
     "data": {
      "text/plain": [
       "Open         1.334100e+02\n",
       "High         1.352500e+02\n",
       "Low          1.333500e+02\n",
       "Close        1.347800e+02\n",
       "Adj Close    1.340143e+02\n",
       "Volume       6.211130e+07\n",
       "Name: 2021-06-28 00:00:00, dtype: float64"
      ]
     },
     "execution_count": 34,
     "metadata": {},
     "output_type": "execute_result"
    }
   ],
   "source": [
    "data.iloc[0]"
   ]
  },
  {
   "cell_type": "code",
   "execution_count": 35,
   "id": "cda442a3",
   "metadata": {},
   "outputs": [
    {
     "data": {
      "text/plain": [
       "Open         1.399000e+02\n",
       "High         1.419100e+02\n",
       "Low          1.397700e+02\n",
       "Close        1.416600e+02\n",
       "Adj Close    1.416600e+02\n",
       "Volume       8.904740e+07\n",
       "Name: 2022-06-24 00:00:00, dtype: float64"
      ]
     },
     "execution_count": 35,
     "metadata": {},
     "output_type": "execute_result"
    }
   ],
   "source": [
    "data.iloc[-1]"
   ]
  },
  {
   "cell_type": "code",
   "execution_count": 36,
   "id": "1cecd376",
   "metadata": {},
   "outputs": [
    {
     "data": {
      "text/html": [
       "<div>\n",
       "<style scoped>\n",
       "    .dataframe tbody tr th:only-of-type {\n",
       "        vertical-align: middle;\n",
       "    }\n",
       "\n",
       "    .dataframe tbody tr th {\n",
       "        vertical-align: top;\n",
       "    }\n",
       "\n",
       "    .dataframe thead th {\n",
       "        text-align: right;\n",
       "    }\n",
       "</style>\n",
       "<table border=\"1\" class=\"dataframe\">\n",
       "  <thead>\n",
       "    <tr style=\"text-align: right;\">\n",
       "      <th></th>\n",
       "      <th>Open</th>\n",
       "      <th>High</th>\n",
       "      <th>Low</th>\n",
       "      <th>Close</th>\n",
       "      <th>Adj Close</th>\n",
       "      <th>Volume</th>\n",
       "    </tr>\n",
       "    <tr>\n",
       "      <th>Date</th>\n",
       "      <th></th>\n",
       "      <th></th>\n",
       "      <th></th>\n",
       "      <th></th>\n",
       "      <th></th>\n",
       "      <th></th>\n",
       "    </tr>\n",
       "  </thead>\n",
       "  <tbody>\n",
       "    <tr>\n",
       "      <th>2022-06-17</th>\n",
       "      <td>130.070007</td>\n",
       "      <td>133.080002</td>\n",
       "      <td>129.809998</td>\n",
       "      <td>131.559998</td>\n",
       "      <td>131.559998</td>\n",
       "      <td>134118500</td>\n",
       "    </tr>\n",
       "    <tr>\n",
       "      <th>2022-06-21</th>\n",
       "      <td>133.419998</td>\n",
       "      <td>137.059998</td>\n",
       "      <td>133.320007</td>\n",
       "      <td>135.869995</td>\n",
       "      <td>135.869995</td>\n",
       "      <td>81000500</td>\n",
       "    </tr>\n",
       "    <tr>\n",
       "      <th>2022-06-22</th>\n",
       "      <td>134.789993</td>\n",
       "      <td>137.759995</td>\n",
       "      <td>133.910004</td>\n",
       "      <td>135.350006</td>\n",
       "      <td>135.350006</td>\n",
       "      <td>73409200</td>\n",
       "    </tr>\n",
       "    <tr>\n",
       "      <th>2022-06-23</th>\n",
       "      <td>136.820007</td>\n",
       "      <td>138.589996</td>\n",
       "      <td>135.630005</td>\n",
       "      <td>138.270004</td>\n",
       "      <td>138.270004</td>\n",
       "      <td>72433800</td>\n",
       "    </tr>\n",
       "    <tr>\n",
       "      <th>2022-06-24</th>\n",
       "      <td>139.899994</td>\n",
       "      <td>141.910004</td>\n",
       "      <td>139.770004</td>\n",
       "      <td>141.660004</td>\n",
       "      <td>141.660004</td>\n",
       "      <td>89047400</td>\n",
       "    </tr>\n",
       "  </tbody>\n",
       "</table>\n",
       "</div>"
      ],
      "text/plain": [
       "                  Open        High         Low       Close   Adj Close  \\\n",
       "Date                                                                     \n",
       "2022-06-17  130.070007  133.080002  129.809998  131.559998  131.559998   \n",
       "2022-06-21  133.419998  137.059998  133.320007  135.869995  135.869995   \n",
       "2022-06-22  134.789993  137.759995  133.910004  135.350006  135.350006   \n",
       "2022-06-23  136.820007  138.589996  135.630005  138.270004  138.270004   \n",
       "2022-06-24  139.899994  141.910004  139.770004  141.660004  141.660004   \n",
       "\n",
       "               Volume  \n",
       "Date                   \n",
       "2022-06-17  134118500  \n",
       "2022-06-21   81000500  \n",
       "2022-06-22   73409200  \n",
       "2022-06-23   72433800  \n",
       "2022-06-24   89047400  "
      ]
     },
     "execution_count": 36,
     "metadata": {},
     "output_type": "execute_result"
    }
   ],
   "source": [
    "data.tail()"
   ]
  },
  {
   "cell_type": "code",
   "execution_count": null,
   "id": "fdbe8013",
   "metadata": {},
   "outputs": [],
   "source": []
  }
 ],
 "metadata": {
  "kernelspec": {
   "display_name": "Python 3 (ipykernel)",
   "language": "python",
   "name": "python3"
  },
  "language_info": {
   "codemirror_mode": {
    "name": "ipython",
    "version": 3
   },
   "file_extension": ".py",
   "mimetype": "text/x-python",
   "name": "python",
   "nbconvert_exporter": "python",
   "pygments_lexer": "ipython3",
   "version": "3.10.4"
  }
 },
 "nbformat": 4,
 "nbformat_minor": 5
}
